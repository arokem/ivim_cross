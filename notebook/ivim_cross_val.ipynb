{
 "cells": [
  {
   "cell_type": "markdown",
   "metadata": {},
   "source": [
    "# Cross validation of the Intravoxel incoherent motion (ivim) model in Dipy\n",
    "\n",
    "We will use sklearn's `cross_val_score` which requires us to build an estimator with a `fit` and `predict` method defined. In order to use the sklearn machinery, we need to make our estimator inherit the BaseEstimator class. Refer to the documentation on [rolling your own estimator](http://scikit-learn.org/stable/developers/contributing.html#rolling-your-own-estimator).\n",
    "\n",
    "## Ivim model\n",
    "\n",
    "The IVIM model expresses the MRI signal as follows:\n",
    "\n",
    "$$ S(b)=S_0(fe^{-bD^*}+(1-f)e^{-bD}) $$\n",
    "\n",
    "where $\\mathbf{b}$ is the diffusion gradient weighing value (which is dependent on the measurement parameters), $\\mathbf{S_{0}}$ is the signal in the absence of diffusion gradient sensitization, $\\mathbf{f}$ is the perfusion fraction, $\\mathbf{D}$ is the diffusion coefficient and $\\mathbf{D^*}$ is the pseudo-diffusion constant, due to vascular contributions.\n",
    "\n",
    "We want to compare the performace of this model with other models such as a simple exponential decay.\n",
    "\n",
    "The signal is recorded for many `b-values` at each point (voxel). Thus we have an array of signal values S(b) for each voxel. After we fit the data from each voxel and get the model parameters we would like to see how well the predictions match with the actual values. We will split our dataset to perform \"leave-one-out cross validation\" or \"n-cross validation\" by leaving out some voxels and predicting their signal values. The metric we use here is sklearn's `neg_mean_squared_error`."
   ]
  },
  {
   "cell_type": "code",
   "execution_count": 1,
   "metadata": {
    "collapsed": true
   },
   "outputs": [],
   "source": [
    "import numpy as np\n",
    "from sklearn.base import BaseEstimator\n",
    "from sklearn.model_selection import cross_val_score, ShuffleSplit\n",
    "from dipy.reconst.ivim import IvimModel\n",
    "from dipy.data.fetcher import read_ivim\n",
    "import matplotlib.pyplot as plt\n",
    "% matplotlib inline"
   ]
  },
  {
   "cell_type": "markdown",
   "metadata": {},
   "source": [
    "# Downloading the data and selecting a small slice for testing\n",
    "\n",
    "The dataset supplied here is from Eric Peterson [share](https://figshare.com/articles/IVIM_dataset/3395704). It has MRI signal data for a 3D region (brain) where each voxel will have its own parameters (S0, f, D and D_star). Dipy has a `fetcher` to download the ivim data."
   ]
  },
  {
   "cell_type": "code",
   "execution_count": 2,
   "metadata": {
    "collapsed": false
   },
   "outputs": [
    {
     "name": "stdout",
     "output_type": "stream",
     "text": [
      "Dataset is already in place. If you want to fetch it again please first remove the folder /Users/shahnawaz/.dipy/ivim \n",
      "data.shape (256, 256, 54, 21)\n"
     ]
    }
   ],
   "source": [
    "img, gtab = read_ivim()\n",
    "data = img.get_data()\n",
    "\n",
    "print('data.shape (%d, %d, %d, %d)' % data.shape)"
   ]
  },
  {
   "cell_type": "markdown",
   "metadata": {},
   "source": [
    "# Select a slice from the complete voxel data\n",
    "\n",
    "We select a slice which is located 33 units in the z axis with an area marked by x1, x2, y1, y2. Setting `:` for the last index means that we consider data for all the bvalues."
   ]
  },
  {
   "cell_type": "code",
   "execution_count": 3,
   "metadata": {
    "collapsed": true
   },
   "outputs": [],
   "source": [
    "z = 33\n",
    "x1, x2 = 90, 150\n",
    "y1, y2 = 90, 180"
   ]
  },
  {
   "cell_type": "code",
   "execution_count": 4,
   "metadata": {
    "collapsed": false
   },
   "outputs": [
    {
     "data": {
      "image/png": "[encoded data removed]",
      "text/plain": [
       "<matplotlib.figure.Figure at 0x114ea5b00>"
      ]
     },
     "metadata": {},
     "output_type": "display_data"
    }
   ],
   "source": [
    "# Plot at b=0\n",
    "b_val = 0\n",
    "plt.imshow(data[x1:x2, y1:y2, z, b_val].T, origin='lower',\n",
    "           cmap=\"gray\", interpolation='nearest')\n",
    "plt.show(\"CSF_slice.png\")\n",
    "plt.close()"
   ]
  },
  {
   "cell_type": "markdown",
   "metadata": {},
   "source": [
    "# Initializing the `IvimModel` and performing a fit"
   ]
  },
  {
   "cell_type": "code",
   "execution_count": 5,
   "metadata": {
    "collapsed": false
   },
   "outputs": [
    {
     "name": "stdout",
     "output_type": "stream",
     "text": [
      "[[  5.30546614e+03   3.00000000e-01   2.72910411e-03   6.62322438e-04]\n",
      " [  5.37174322e+03   3.00000000e-01   2.78922393e-03   6.87788811e-04]\n",
      " [  5.18012061e+03   3.00000000e-01   2.62790991e-03   6.85006231e-04]\n",
      " [  4.83387718e+03   3.00000000e-01   2.08925016e-03   6.80651494e-04]\n",
      " [  4.53160381e+03   3.00000000e-01   1.51359061e-03   7.03756518e-04]\n",
      " [  4.38689830e+03   3.00000000e-01   1.55291628e-03   6.41886453e-04]\n",
      " [  4.37793014e+03   3.00000000e-01   2.05200892e-03   5.41403036e-04]\n",
      " [  4.35485598e+03   3.00000000e-01   2.17139860e-03   5.15077200e-04]\n",
      " [  4.28023285e+03   3.00000000e-01   1.94778943e-03   5.21662490e-04]\n",
      " [  4.27726212e+03   3.00000000e-01   2.04820770e-03   4.85247323e-04]]\n"
     ]
    },
    {
     "name": "stderr",
     "output_type": "stream",
     "text": [
      "/Users/shahnawaz/dev/dipy/dipy/reconst/ivim.py:404: UserWarning: x0 obtained from linear fitting is not feasibile as initial guess for leastsq while estimating f and D_star. Using parameters from the linear fit.\n",
      "  warnings.warn(warningMsg, UserWarning)\n",
      "/Users/shahnawaz/dev/dipy/dipy/reconst/ivim.py:498: UserWarning: x0 is unfeasible for leastsq fitting. Returning x0 values from the linear fit.\n",
      "  warnings.warn(warningMsg, UserWarning)\n",
      "/Users/shahnawaz/dev/dipy/dipy/reconst/ivim.py:293: UserWarning: Bounds are violated for leastsq fitting. Returning parameters from linear fit\n",
      "  warnings.warn(warningMsg, UserWarning)\n"
     ]
    }
   ],
   "source": [
    "# Initialize the ivim model\n",
    "ivimmodel = IvimModel(gtab)\n",
    "data_slice = data[90:100, 90:100, z, :]\n",
    "ivimfit = ivimmodel.fit(data_slice)\n",
    "\n",
    "# Display model parameters \n",
    "print(ivimfit.model_params[0])"
   ]
  },
  {
   "cell_type": "markdown",
   "metadata": {},
   "source": [
    "# Making your own estimator\n",
    "\n",
    "We wish to use the `IvimModel` for cross validation and will build our custom sklearn estimator with it. But first let us build a simple estimator which predicts parameters for an exponential decay model.\n",
    "\n",
    "$$ y = S_{0} e^{-D x}$$"
   ]
  },
  {
   "cell_type": "code",
   "execution_count": 6,
   "metadata": {
    "collapsed": false
   },
   "outputs": [],
   "source": [
    "class ExponentialCrossVal(BaseEstimator):\n",
    "    \"\"\"\n",
    "    A custom estimator which can be used with sklearn's `cross_val_score`\n",
    "    \"\"\"\n",
    "    def __init__(self, params=None):\n",
    "        self.params = params\n",
    "        \n",
    "    def fit(self, X, y):\n",
    "        \"\"\"\n",
    "        We will fit an exponential model using a logarithmic transformation\n",
    "        and using the `polyfit` function from numpy.\n",
    "        \"\"\"\n",
    "        D, neg_log_S0 = np.polyfit(X, -np.log(y), 1)\n",
    "        S0 = np.exp(-neg_log_S0)\n",
    "        self.params = [S0, D]\n",
    "        \n",
    "    def predict(self, X):\n",
    "        \"\"\"\n",
    "        Predict the values of the signal after fitting using the model params.\n",
    "        \"\"\"\n",
    "        return self.params[0] * np.exp(-X * self.params[1])"
   ]
  },
  {
   "cell_type": "code",
   "execution_count": 7,
   "metadata": {
    "collapsed": false
   },
   "outputs": [
    {
     "data": {
      "image/png": "[encoded data removed]",
      "text/plain": [
       "<matplotlib.figure.Figure at 0x129023320>"
      ]
     },
     "metadata": {},
     "output_type": "display_data"
    }
   ],
   "source": [
    "X_train = np.array([x/10. for x in range(1000)])\n",
    "# Set S0 and D\n",
    "S0 = 10.\n",
    "D = 0.02\n",
    "y = S0 * np.exp(- D * X_train)\n",
    "# Add some noise to the data. Change the scale to tune the noise.\n",
    "y_train = [val + np.random.exponential(scale=0.09) for val in y]\n",
    "\n",
    "# Plot\n",
    "plt.scatter(X_train, y_train)\n",
    "plt.show()"
   ]
  },
  {
   "cell_type": "code",
   "execution_count": 8,
   "metadata": {
    "collapsed": false
   },
   "outputs": [
    {
     "data": {
      "image/png": "[encoded data removed]",
      "text/plain": [
       "<matplotlib.figure.Figure at 0x12902e710>"
      ]
     },
     "metadata": {},
     "output_type": "display_data"
    }
   ],
   "source": [
    "model = ExponentialCrossVal()\n",
    "model.fit(X_train, y_train)\n",
    "prediction = model.predict(X_train)\n",
    "\n",
    "plt.scatter(X_train, prediction)\n",
    "plt.show()"
   ]
  },
  {
   "cell_type": "markdown",
   "metadata": {},
   "source": [
    "# Calculate the cross validation scores\n",
    "\n",
    "We will consider the metric `neg_mean_squared_error`. For k cross validation, we will shuffle the input data using `ShuffleSplit`."
   ]
  },
  {
   "cell_type": "code",
   "execution_count": 9,
   "metadata": {
    "collapsed": false
   },
   "outputs": [
    {
     "name": "stdout",
     "output_type": "stream",
     "text": [
      "[ -1.16306036e-29  -8.83031176e-31  -1.61864397e-29]\n"
     ]
    }
   ],
   "source": [
    "cv = ShuffleSplit(n_splits=3, test_size=0.3, random_state=0)\n",
    "print (cross_val_score(ExponentialCrossVal(), X_train, y, scoring = 'neg_mean_squared_error', cv = cv))"
   ]
  },
  {
   "cell_type": "markdown",
   "metadata": {},
   "source": [
    "# Making the estimator work with multiple voxel data for IVIM"
   ]
  },
  {
   "cell_type": "code",
   "execution_count": null,
   "metadata": {
    "collapsed": true
   },
   "outputs": [],
   "source": []
  }
 ],
 "metadata": {
  "anaconda-cloud": {},
  "kernelspec": {
   "display_name": "Python [conda root]",
   "language": "python",
   "name": "conda-root-py"
  },
  "language_info": {
   "codemirror_mode": {
    "name": "ipython",
    "version": 3
   },
   "file_extension": ".py",
   "mimetype": "text/x-python",
   "name": "python",
   "nbconvert_exporter": "python",
   "pygments_lexer": "ipython3",
   "version": "3.5.2"
  }
 },
 "nbformat": 4,
 "nbformat_minor": 1
}
